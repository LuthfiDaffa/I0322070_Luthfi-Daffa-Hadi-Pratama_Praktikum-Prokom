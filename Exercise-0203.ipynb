{
 "cells": [
  {
   "cell_type": "code",
   "execution_count": 1,
   "metadata": {},
   "outputs": [],
   "source": [
    "print(input(\"Nama: Luthfi Daffa Hadi Pratama \"))\n",
    "print(input(\"NIM: I0322070 \"))\n",
    "print(input(\"Kelas: c \"))"
   ]
  },
  {
   "attachments": {},
   "cell_type": "markdown",
   "metadata": {},
   "source": [
    "## 1."
   ]
  },
  {
   "attachments": {},
   "cell_type": "markdown",
   "metadata": {},
   "source": [
    "buatlah program sederhana untuk:\n",
    "* **A** mencari massa jika diketahui nilai energi potensial, percepatan gravitasi, dan ketinggian benda! beserta rumus nya!\n",
    "* **B** mencari gaya apung jika diketahui massa jenis, tinggi, panjang, dan lebar benda serta percepatan gravitasi dan contohnya! beserta rumus nya!\n",
    "* **C** Tulis program Python untuk menghitung luas dari segi lima sama sisi!\n",
    "\n",
    "> *note* : rumus, contoh, dan nilai dari tiap variabel ditentukan oleh kalian sendiri dan gunakan satuan baku (SI) untuk menghitung nilai dari tiap variabel"
   ]
  },
  {
   "cell_type": "code",
   "execution_count": 9,
   "metadata": {},
   "outputs": [
    {
     "name": "stdout",
     "output_type": "stream",
     "text": [
      "===============================================\n",
      "Nilai Energi Potensial = 1.0 Joule\n",
      "Nilai Gravitasi = 11.0 m/s^2\n",
      "Nilai Ketinggian Benda= 1.0 m\n",
      "Maka Massa Benda yang didapat = 0.09090909090909091 kg\n",
      "===============================================\n",
      "===============================================\n",
      "Nilai massa jenis zat cair adalah 11.0 Kg/m^3\n",
      "Nilai percepatan gravitasi adalah 1.0 m/s^2\n",
      "Tinggi benda adalah 11.0 m\n",
      "Panjang benda adalah 1.0 m\n",
      "Lebar benda adalah 11.0 m\n",
      "Nilai volume benda adalah 121.0 m\n",
      "Maka hasil nilai gaya apung adalah 1331.0 N\n",
      "===============================================\n",
      "sisi dari segi lima sama sisi adalah 1.0 m\n",
      "luas dari segi lima sama sisi adalah 1.0 m^2\n"
     ]
    }
   ],
   "source": [
    "#A mencari massa apabila diketahui energi potensial, percepatan gravitasi dan ketinggian benda\n",
    "\n",
    "print(\"===================================================\")\n",
    "Ep = float(input(\"Masukkan besar energi potensial=\"))\n",
    "g = float(input(\"Masukan percepatan gravitasi bumi= \" ))\n",
    "h = float(input(\"Masukan besar ketinggian benda= \"))\n",
    "\n",
    "m = Ep / (g * h)\n",
    "print(f\"Nilai Energi Potensial =\",Ep,\"Joule\")\n",
    "print(f\"Nilai Gravitasi =\",g,\"m/s^2\")\n",
    "print(f\"Nilai Ketinggian Benda=\",h,\"m\")\n",
    "\n",
    "print(f\"Maka Massa Benda yang didapat =\",m,\"kg\")\n",
    "print(\"===================================================\")\n",
    "\n",
    "#B mencari gaya apung jika diketahui massa jenis, tinggi, panjang, dan lebar benda serta percepatan gravitasi dan contohnya! beserta rumusnya!\n",
    "\n",
    "print(\"===================================================\")\n",
    "MassaJenis=float(input(\"Masukkan nilai massa jenis=\\t\"))\n",
    "PercepatanGravitasi=float(input(\"Masukkan nilai percepatan gravitasi=\\t\"))\n",
    "TinggiBenda=float(input(\"Masukkan nilai tinggi benda=\\t\"))\n",
    "PanjangBenda=float(input(\"Masukkan nilai panjang benda=\\t\"))\n",
    "LebarBenda=float(input(\"Masukkan lebar benda=\\t\"))\n",
    "VolumeBenda=(PanjangBenda*LebarBenda*TinggiBenda)\n",
    "GayaApung=(MassaJenis*VolumeBenda*PercepatanGravitasi)\n",
    "\n",
    "print(f\"Nilai massa jenis zat cair adalah\",MassaJenis,\"Kg/m^3\")\n",
    "print(f\"Nilai percepatan gravitasi adalah\",PercepatanGravitasi,\"m/s^2\")\n",
    "\n",
    "print(f\"Tinggi benda adalah\",TinggiBenda,\"m\")\n",
    "print(f\"Panjang benda adalah\",PanjangBenda,\"m\")\n",
    "print(f\"Lebar benda adalah\",LebarBenda,\"m\")\n",
    "\n",
    "print(f\"Nilai volume benda adalah\",VolumeBenda,\"m\")\n",
    "print(f\"Maka hasil nilai gaya apung adalah\",GayaApung,\"N\")\n",
    "print(\"===================================================\")\n",
    "\n",
    "#C Tulis program python untuk menghitung luas dari segi lima sama sisi\n",
    "\n",
    "SisiSegi5 =float(input(\"masukan sisi segi lima=\\t\"))\n",
    "LuasSegi5 =((5 * SisiSegi5 ** 2)//2.90617)\n",
    "\n",
    "print(f\"sisi dari segi lima sama sisi adalah\",SisiSegi5,\"m\")\n",
    "print(f\"luas dari segi lima sama sisi adalah\",LuasSegi5,\"m^2\")\n",
    "print(\"===================================================\")\n",
    "\n",
    "\n",
    "\n",
    "\n"
   ]
  },
  {
   "attachments": {},
   "cell_type": "markdown",
   "metadata": {},
   "source": [
    "## 2."
   ]
  },
  {
   "attachments": {},
   "cell_type": "markdown",
   "metadata": {},
   "source": [
    "Taman bermain ANCOL memiliki berbagai wahana, salah satunya adalah bianglala. Harga tiket yang dijual berbeda tergantung dengan kategori nya. Harga tiket bagi orang dewasa atau yang berumur lebih dari 17 tahun adalah Rp 110.000 , harga tiket untuk anak-anak usia 6-16 tahun adalah Rp. 75.000 , sedangkan untuk usia dibawahnya tidak dikenakan biaya. Pada wahana bianglala sedang ada \"Promo RAMADHAN\" sebesar 20% bagi pembelian tiket lebih dari 2 pcs.\n",
    "\n",
    "Keluarga Anya Forger ingin menaiki wahana bianglala tersebut, Anya (usia 18 tahun) pergi bersama ayah dan ibunya beserta dua adiknya, Harry (usia 8 tahun) dan Taylor (usia 4 tahun). \n",
    "\n",
    "> Buatlah program sederhana untuk menghitung harga total dari pembelian tiket  oleh keluarga Anya dan harga tiket setelah mendapatkan diskon"
   ]
  },
  {
   "cell_type": "code",
   "execution_count": 14,
   "metadata": {},
   "outputs": [
    {
     "name": "stdout",
     "output_type": "stream",
     "text": [
      "Keluarga Anya yang naik wahana adalah  ayah ibu dan anya\n",
      "Harga Total dari pembelian tiket sebelum diskon adalah RP. 405000\n",
      "Dalam menyambut bulan suci Ramadhan wahana memberikan diskon menjadi RP. 324000.0\n"
     ]
    }
   ],
   "source": [
    "# Buatlah program sederhana untuk menghitung harga total dari pembelian tiket oleh keluarga Anya dan harga tiket setelah mendapatkan diskon\n",
    "\n",
    "KeluargaAnyaYangIkut=input(\"Siapa Keluarga Anya yang naik wahana diatas 17 Tahun\")\n",
    "\n",
    "HargaTiket17TahunKeatas=110000\n",
    "HargaTiketUmur6Sampai16Tahun=75000\n",
    "HargaTiketDibawahUmur=0\n",
    "JumlahKeluargaAnyaUmur17TahunKeatas=3\n",
    "JumlahKeluargaAnyaUmur6Sampai16Tahun=1\n",
    "JumlahKeluargaAnyaYangDibawahUmur=1\n",
    "\n",
    "Total_Harga_Sebelum_Diskon=(JumlahKeluargaAnyaUmur17TahunKeatas*HargaTiket17TahunKeatas)+(JumlahKeluargaAnyaUmur6Sampai16Tahun*HargaTiketUmur6Sampai16Tahun)+(JumlahKeluargaAnyaYangDibawahUmur*HargaTiketDibawahUmur)\n",
    "#Dikarenakan Bulan Ramadhan ada potongan diskon sebesar 20% per 2 pcs tiket\n",
    "Total_Harga_Diskon=(2*HargaTiket17TahunKeatas*4/5)+((HargaTiket17TahunKeatas+HargaTiketUmur6Sampai16Tahun)*4/5)\n",
    "\n",
    "print(f\"Keluarga Anya yang naik wahana adalah \",KeluargaAnyaYangIkut)\n",
    "\n",
    "print(f\"Harga Total dari pembelian tiket sebelum diskon adalah RP.\",Total_Harga_Sebelum_Diskon)\n",
    "\n",
    "print(f\"Dalam menyambut bulan suci Ramadhan wahana memberikan diskon menjadi RP.\",Total_Harga_Diskon)"
   ]
  },
  {
   "attachments": {},
   "cell_type": "markdown",
   "metadata": {},
   "source": [
    "## 3. "
   ]
  },
  {
   "attachments": {},
   "cell_type": "markdown",
   "metadata": {},
   "source": [
    "diberikan list aslab sebagai berikut:\n",
    "```python\n",
    "list_aslab = [\n",
    "    {\"nama\": \"Berlian Safri Prakoso\", \"nim\": \"I0320017\", \"kontak\": \"0858XXXXXXXX\"},\n",
    "    {\"nama\": \"Halidya Siti Hanifah\", \"nim\": \"I0320044\", \"kontak\": \"0878XXXXXXXX\"},\n",
    "    {\"nama\": \"Nurki Putra Mahardika\", \"nim\": \"I0320076\", \"kontak\": \"0877XXXXXXXX\"},\n",
    "    {\"nama\": \"Aji Manarul Aziz\", \"nim\": \"I0320119\", \"kontak\": \"0812XXXXXXXX\"},\n",
    "    {\"nama\": \"Alica Ayu Fitriani\", \"nim\": \"I0320121\", \"kontak\": \"0896XXXXXXXX\"},\n",
    "    {\"nama\": \"Dendy Halim Kusuma\", \"nim\": \"I0320125\", \"kontak\": \"0822XXXXXXXX\"}\n",
    "]\n",
    "```\n",
    "* **A** Tuliskan kode untuk mengakses informasi tentang \"nama\" dari semua aslab mulai dari index 1 sampai 5\n",
    "* **B** Tambahkan informasi berikut pada data aslab dan tampilkan hasilnya:\n",
    "```python\n",
    "    surel = [\"berlian@student.uns.ac.id\",\n",
    "          \"halidya@student.uns.ac.id\",\n",
    "          \"nurki@student.uns.ac.id\",\n",
    "          \"manarul@student.uns.ac.id\",\n",
    "          \"alica@student.uns.ac.id\",\n",
    "          \"dendy@student.uns.ac.id\"]\n",
    "```\n",
    "* **C** Hapus nilai pada kunci \"kontak\" pada list aslab dan tampilkan hasilnya\n",
    "> *note: kalian hanya boleh menggunakan key-value pair yang disebutkan di dalam teks, tanpa menggunakan informasi tambahan yang diambil pada list yang ada*"
   ]
  },
  {
   "cell_type": "code",
   "execution_count": 17,
   "metadata": {},
   "outputs": [
    {
     "name": "stdout",
     "output_type": "stream",
     "text": [
      "Halidya Siti Hanifah\n",
      "Nurki Putra Mahardika\n",
      "Aji Manarul Aziz\n",
      "Alica Ayu Fitriani\n",
      "Dendy Halim Kusuma\n",
      "Nama: Berlian Safri Prakoso\n",
      "NIM: I0320017\n",
      "Kontak: 0858XXXXXXXX\n",
      "Surel: berlian@student.uns.ac.id\n",
      "\n",
      "Nama: Halidya Siti Hanifah\n",
      "NIM: I0320044\n",
      "Kontak: 0878XXXXXXXX\n",
      "Surel: halidya@student.uns.ac.id\n",
      "\n",
      "Nama: Nurki Putra Mahardika\n",
      "NIM: I0320076\n",
      "Kontak: 0877XXXXXXXX\n",
      "Surel: nurki@student.uns.ac.id\n",
      "\n",
      "Nama: Aji Manarul Aziz\n",
      "NIM: I0320119\n",
      "Kontak: 0812XXXXXXXX\n",
      "Surel: manarul@student.uns.ac.id\n",
      "\n",
      "Nama: Alica Ayu Fitriani\n",
      "NIM: I0320121\n",
      "Kontak: 0896XXXXXXXX\n",
      "Surel: alica@student.uns.ac.id\n",
      "\n",
      "Nama: Dendy Halim Kusuma\n",
      "NIM: I0320125\n",
      "Kontak: 0822XXXXXXXX\n",
      "Surel: dendy@student.uns.ac.id\n",
      "\n",
      "Nama: Berlian Safri Prakoso\n",
      "NIM: I0320017\n",
      "Surel: berlian@student.uns.ac.id\n",
      "\n",
      "Nama: Halidya Siti Hanifah\n",
      "NIM: I0320044\n",
      "Surel: halidya@student.uns.ac.id\n",
      "\n",
      "Nama: Nurki Putra Mahardika\n",
      "NIM: I0320076\n",
      "Surel: nurki@student.uns.ac.id\n",
      "\n",
      "Nama: Aji Manarul Aziz\n",
      "NIM: I0320119\n",
      "Surel: manarul@student.uns.ac.id\n",
      "\n",
      "Nama: Alica Ayu Fitriani\n",
      "NIM: I0320121\n",
      "Surel: alica@student.uns.ac.id\n",
      "\n",
      "Nama: Dendy Halim Kusuma\n",
      "NIM: I0320125\n",
      "Surel: dendy@student.uns.ac.id\n",
      "\n"
     ]
    }
   ],
   "source": [
    "#A Mengakses informasi tentang aslab\n",
    "list_aslab = [\n",
    "    {\"nama\": \"Berlian Safri Prakoso\", \"nim\": \"I0320017\", \"kontak\": \"0858XXXXXXXX\"},\n",
    "    {\"nama\": \"Halidya Siti Hanifah\", \"nim\": \"I0320044\", \"kontak\": \"0878XXXXXXXX\"},\n",
    "    {\"nama\": \"Nurki Putra Mahardika\", \"nim\": \"I0320076\", \"kontak\": \"0877XXXXXXXX\"},\n",
    "    {\"nama\": \"Aji Manarul Aziz\", \"nim\": \"I0320119\", \"kontak\": \"0812XXXXXXXX\"},\n",
    "    {\"nama\": \"Alica Ayu Fitriani\", \"nim\": \"I0320121\", \"kontak\": \"0896XXXXXXXX\"},\n",
    "    {\"nama\": \"Dendy Halim Kusuma\", \"nim\": \"I0320125\", \"kontak\": \"0822XXXXXXXX\"}\n",
    "]\n",
    "\n",
    "for i in range(1, 6):\n",
    "  print(list_aslab[i][\"nama\"])\n",
    "\n",
    "#B Menambah surel pada data aslab\n",
    "surel = [\"berlian@student.uns.ac.id\",\n",
    "          \"halidya@student.uns.ac.id\",\n",
    "          \"nurki@student.uns.ac.id\",\n",
    "          \"manarul@student.uns.ac.id\",\n",
    "          \"alica@student.uns.ac.id\",\n",
    "          \"dendy@student.uns.ac.id\"]\n",
    "\n",
    "for i in range(len(list_aslab)):\n",
    "    list_aslab[i][\"surel\"] = surel[i]\n",
    "\n",
    "# Tampilkan hasil\n",
    "for i in range(len(list_aslab)):\n",
    "  print(\"Nama:\", list_aslab[i][\"nama\"])\n",
    "  print(\"NIM:\", list_aslab[i][\"nim\"])\n",
    "  print(\"Kontak:\", list_aslab[i][\"kontak\"])\n",
    "  print(\"Surel:\", list_aslab[i][\"surel\"])\n",
    "  print()\n",
    "\n",
    "#C Menghapus kontak pada data aslab\n",
    "\n",
    "for i in range(len(list_aslab)):\n",
    "  del list_aslab[i][\"kontak\"]\n",
    "\n",
    "# Tampilkan hasil\n",
    "for i in range(len(list_aslab)):\n",
    "  print(\"Nama:\", list_aslab[i][\"nama\"])\n",
    "  print(\"NIM:\", list_aslab[i][\"nim\"])\n",
    "  print(\"Surel:\", list_aslab[i][\"surel\"])\n",
    "  print()"
   ]
  }
 ],
 "metadata": {
  "kernelspec": {
   "display_name": "Python 3",
   "language": "python",
   "name": "python3"
  },
  "language_info": {
   "codemirror_mode": {
    "name": "ipython",
    "version": 3
   },
   "file_extension": ".py",
   "mimetype": "text/x-python",
   "name": "python",
   "nbconvert_exporter": "python",
   "pygments_lexer": "ipython3",
   "version": "3.10.7"
  },
  "orig_nbformat": 4,
  "vscode": {
   "interpreter": {
    "hash": "5addf786bcd861d1ce5006f23111f8cbb206731e5b61b0a5632ba9e0252558a8"
   }
  }
 },
 "nbformat": 4,
 "nbformat_minor": 2
}
